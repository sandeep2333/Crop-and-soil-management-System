{
 "cells": [
  {
   "cell_type": "code",
   "execution_count": 1,
   "metadata": {},
   "outputs": [
    {
     "name": "stdout",
     "output_type": "stream",
     "text": [
      "Channels:\n",
      " - conda-forge\n",
      " - defaults\n",
      "Platform: win-64\n",
      "Collecting package metadata (repodata.json): ...working... done\n",
      "Solving environment: ...working... done\n",
      "\n",
      "## Package Plan ##\n",
      "\n",
      "  environment location: C:\\Users\\Sujith\\anaconda3\n",
      "\n",
      "  added / updated specs:\n",
      "    - imbalanced-learn\n",
      "\n",
      "\n",
      "The following packages will be downloaded:\n",
      "\n",
      "    package                    |            build\n",
      "    ---------------------------|-----------------\n",
      "    imbalanced-learn-0.12.3    |     pyhd8ed1ab_0         155 KB  conda-forge\n",
      "    ------------------------------------------------------------\n",
      "                                           Total:         155 KB\n",
      "\n",
      "The following packages will be UPDATED:\n",
      "\n",
      "  imbalanced-learn   pkgs/main/win-64::imbalanced-learn-0.~ --> conda-forge/noarch::imbalanced-learn-0.12.3-pyhd8ed1ab_0 \n",
      "\n",
      "\n",
      "\n",
      "Downloading and Extracting Packages: ...working... done\n",
      "Preparing transaction: ...working... done\n",
      "Verifying transaction: ...working... done\n",
      "Executing transaction: ...working... done\n",
      "\n",
      "Note: you may need to restart the kernel to use updated packages.\n"
     ]
    },
    {
     "name": "stderr",
     "output_type": "stream",
     "text": [
      "DEBUG:urllib3.connectionpool:Starting new HTTPS connection (1): conda.anaconda.org:443\n",
      "DEBUG:urllib3.connectionpool:Starting new HTTPS connection (1): conda.anaconda.org:443\n",
      "DEBUG:urllib3.connectionpool:Starting new HTTPS connection (1): repo.anaconda.com:443\n",
      "DEBUG:urllib3.connectionpool:Starting new HTTPS connection (1): repo.anaconda.com:443\n",
      "DEBUG:urllib3.connectionpool:Starting new HTTPS connection (1): repo.anaconda.com:443\n",
      "DEBUG:urllib3.connectionpool:Starting new HTTPS connection (1): repo.anaconda.com:443\n",
      "DEBUG:urllib3.connectionpool:Starting new HTTPS connection (1): repo.anaconda.com:443\n",
      "DEBUG:urllib3.connectionpool:Starting new HTTPS connection (1): repo.anaconda.com:443\n",
      "DEBUG:urllib3.connectionpool:https://repo.anaconda.com:443 \"GET /pkgs/main/noarch/repodata.json HTTP/1.1\" 304 0\n",
      "DEBUG:urllib3.connectionpool:https://repo.anaconda.com:443 \"GET /pkgs/r/win-64/repodata.json HTTP/1.1\" 304 0\n",
      "DEBUG:urllib3.connectionpool:https://repo.anaconda.com:443 \"GET /pkgs/msys2/noarch/repodata.json HTTP/1.1\" 304 0\n",
      "DEBUG:urllib3.connectionpool:https://repo.anaconda.com:443 \"GET /pkgs/main/win-64/repodata.json HTTP/1.1\" 304 0\n",
      "DEBUG:urllib3.connectionpool:https://repo.anaconda.com:443 \"GET /pkgs/msys2/win-64/repodata.json HTTP/1.1\" 304 0\n",
      "DEBUG:urllib3.connectionpool:https://repo.anaconda.com:443 \"GET /pkgs/r/noarch/repodata.json HTTP/1.1\" 304 0\n",
      "DEBUG:urllib3.connectionpool:https://conda.anaconda.org:443 \"GET /conda-forge/win-64/repodata.json HTTP/1.1\" 200 None\n",
      "DEBUG:urllib3.connectionpool:https://conda.anaconda.org:443 \"GET /conda-forge/noarch/repodata.json HTTP/1.1\" 200 None\n",
      "DEBUG:urllib3.connectionpool:Starting new HTTPS connection (1): conda.anaconda.org:443\n",
      "DEBUG:urllib3.connectionpool:https://conda.anaconda.org:443 \"GET /conda-forge/noarch/imbalanced-learn-0.12.3-pyhd8ed1ab_0.conda HTTP/1.1\" 200 158880\n"
     ]
    }
   ],
   "source": [
    "conda install -c conda-forge imbalanced-learn"
   ]
  },
  {
   "cell_type": "code",
   "execution_count": 1,
   "metadata": {
    "id": "jYredqpo3dnN"
   },
   "outputs": [],
   "source": [
    "import pandas as pd\n",
    "import numpy as np\n",
    "import matplotlib.pyplot as plt\n",
    "import seaborn as sns\n",
    "from sklearn.metrics import classification_report\n",
    "from sklearn.model_selection import cross_val_score\n",
    "from sklearn.preprocessing import StandardScaler, LabelEncoder\n",
    "from sklearn.model_selection import train_test_split\n",
    "from sklearn import metrics\n",
    "from sklearn import tree\n",
    "from imblearn.over_sampling import SMOTE\n",
    "from collections import Counter\n",
    "import warnings\n",
    "warnings.filterwarnings('ignore')"
   ]
  },
  {
   "cell_type": "code",
   "execution_count": 2,
   "metadata": {
    "colab": {
     "base_uri": "https://localhost:8080/",
     "height": 206
    },
    "id": "qSn9Lnn_3lhw",
    "outputId": "3ab52b59-7dec-4678-c5d3-256a8cc7a964"
   },
   "outputs": [
    {
     "data": {
      "text/html": [
       "<div>\n",
       "<style scoped>\n",
       "    .dataframe tbody tr th:only-of-type {\n",
       "        vertical-align: middle;\n",
       "    }\n",
       "\n",
       "    .dataframe tbody tr th {\n",
       "        vertical-align: top;\n",
       "    }\n",
       "\n",
       "    .dataframe thead th {\n",
       "        text-align: right;\n",
       "    }\n",
       "</style>\n",
       "<table border=\"1\" class=\"dataframe\">\n",
       "  <thead>\n",
       "    <tr style=\"text-align: right;\">\n",
       "      <th></th>\n",
       "      <th>Temparature</th>\n",
       "      <th>Humidity</th>\n",
       "      <th>Moisture</th>\n",
       "      <th>Soil Type</th>\n",
       "      <th>Crop Type</th>\n",
       "      <th>Nitrogen</th>\n",
       "      <th>Potassium</th>\n",
       "      <th>Phosphorous</th>\n",
       "      <th>Fertilizer Name</th>\n",
       "    </tr>\n",
       "  </thead>\n",
       "  <tbody>\n",
       "    <tr>\n",
       "      <th>0</th>\n",
       "      <td>26</td>\n",
       "      <td>52</td>\n",
       "      <td>38</td>\n",
       "      <td>Sandy</td>\n",
       "      <td>Maize</td>\n",
       "      <td>37</td>\n",
       "      <td>0</td>\n",
       "      <td>0</td>\n",
       "      <td>Urea</td>\n",
       "    </tr>\n",
       "    <tr>\n",
       "      <th>1</th>\n",
       "      <td>29</td>\n",
       "      <td>52</td>\n",
       "      <td>45</td>\n",
       "      <td>Loamy</td>\n",
       "      <td>Sugarcane</td>\n",
       "      <td>12</td>\n",
       "      <td>0</td>\n",
       "      <td>36</td>\n",
       "      <td>DAP</td>\n",
       "    </tr>\n",
       "    <tr>\n",
       "      <th>2</th>\n",
       "      <td>34</td>\n",
       "      <td>65</td>\n",
       "      <td>62</td>\n",
       "      <td>Black</td>\n",
       "      <td>Cotton</td>\n",
       "      <td>7</td>\n",
       "      <td>9</td>\n",
       "      <td>30</td>\n",
       "      <td>14-35-14</td>\n",
       "    </tr>\n",
       "    <tr>\n",
       "      <th>3</th>\n",
       "      <td>32</td>\n",
       "      <td>62</td>\n",
       "      <td>34</td>\n",
       "      <td>Red</td>\n",
       "      <td>Tobacco</td>\n",
       "      <td>22</td>\n",
       "      <td>0</td>\n",
       "      <td>20</td>\n",
       "      <td>28-28</td>\n",
       "    </tr>\n",
       "    <tr>\n",
       "      <th>4</th>\n",
       "      <td>28</td>\n",
       "      <td>54</td>\n",
       "      <td>46</td>\n",
       "      <td>Clayey</td>\n",
       "      <td>Paddy</td>\n",
       "      <td>35</td>\n",
       "      <td>0</td>\n",
       "      <td>0</td>\n",
       "      <td>Urea</td>\n",
       "    </tr>\n",
       "  </tbody>\n",
       "</table>\n",
       "</div>"
      ],
      "text/plain": [
       "   Temparature  Humidity   Moisture Soil Type  Crop Type  Nitrogen  Potassium  \\\n",
       "0           26         52        38     Sandy      Maize        37          0   \n",
       "1           29         52        45     Loamy  Sugarcane        12          0   \n",
       "2           34         65        62     Black     Cotton         7          9   \n",
       "3           32         62        34       Red    Tobacco        22          0   \n",
       "4           28         54        46    Clayey      Paddy        35          0   \n",
       "\n",
       "   Phosphorous Fertilizer Name  \n",
       "0            0            Urea  \n",
       "1           36             DAP  \n",
       "2           30        14-35-14  \n",
       "3           20           28-28  \n",
       "4            0            Urea  "
      ]
     },
     "execution_count": 2,
     "metadata": {},
     "output_type": "execute_result"
    }
   ],
   "source": [
    "data = pd.read_csv(\"Fertilizer Prediction.csv\")\n",
    "data.head()"
   ]
  },
  {
   "cell_type": "code",
   "execution_count": 3,
   "metadata": {
    "colab": {
     "base_uri": "https://localhost:8080/"
    },
    "id": "jkvX90Rq4CW5",
    "outputId": "e8900426-e544-4525-de3a-99d50d1f352d"
   },
   "outputs": [
    {
     "data": {
      "text/plain": [
       "array(['Urea', 'DAP', '14-35-14', '28-28', '17-17-17', '20-20',\n",
       "       '10-26-26'], dtype=object)"
      ]
     },
     "execution_count": 3,
     "metadata": {},
     "output_type": "execute_result"
    }
   ],
   "source": [
    "data[\"Fertilizer Name\"].unique()"
   ]
  },
  {
   "cell_type": "code",
   "execution_count": 4,
   "metadata": {
    "colab": {
     "base_uri": "https://localhost:8080/"
    },
    "id": "sHHQFsjR4KZ_",
    "outputId": "8dd5f0dc-87af-4464-8768-d5b344dcbd60"
   },
   "outputs": [
    {
     "data": {
      "text/plain": [
       "array(['Sandy', 'Loamy', 'Black', 'Red', 'Clayey'], dtype=object)"
      ]
     },
     "execution_count": 4,
     "metadata": {},
     "output_type": "execute_result"
    }
   ],
   "source": [
    "data[\"Soil Type\"].unique()"
   ]
  },
  {
   "cell_type": "code",
   "execution_count": 5,
   "metadata": {
    "colab": {
     "base_uri": "https://localhost:8080/"
    },
    "id": "gY-7RP_S4Mfj",
    "outputId": "140f44ba-d187-4d90-dec3-8bb11911d14c"
   },
   "outputs": [
    {
     "data": {
      "text/plain": [
       "array(['Maize', 'Sugarcane', 'Cotton', 'Tobacco', 'Paddy', 'Barley',\n",
       "       'Wheat', 'Millets', 'Oil seeds', 'Pulses', 'Ground Nuts'],\n",
       "      dtype=object)"
      ]
     },
     "execution_count": 5,
     "metadata": {},
     "output_type": "execute_result"
    }
   ],
   "source": [
    "data[\"Crop Type\"].unique()"
   ]
  },
  {
   "cell_type": "code",
   "execution_count": 6,
   "metadata": {
    "colab": {
     "base_uri": "https://localhost:8080/"
    },
    "id": "K14ONTuK4OWN",
    "outputId": "a8d045fd-7194-4054-cdca-0c98352e5793"
   },
   "outputs": [
    {
     "data": {
      "text/plain": [
       "Index(['Temparature', 'Humidity ', 'Moisture', 'Soil Type', 'Crop Type',\n",
       "       'Nitrogen', 'Potassium', 'Phosphorous', 'Fertilizer Name'],\n",
       "      dtype='object')"
      ]
     },
     "execution_count": 6,
     "metadata": {},
     "output_type": "execute_result"
    }
   ],
   "source": [
    "data.columns"
   ]
  },
  {
   "cell_type": "code",
   "execution_count": 7,
   "metadata": {
    "colab": {
     "base_uri": "https://localhost:8080/",
     "height": 320
    },
    "id": "W9i1R6H04Q8W",
    "outputId": "455b3df9-7d36-48da-ebd0-1d63d4dd965d"
   },
   "outputs": [
    {
     "data": {
      "image/png": "[encoded data removed]",
      "text/plain": [
       "<Figure size 900x500 with 1 Axes>"
      ]
     },
     "metadata": {},
     "output_type": "display_data"
    }
   ],
   "source": [
    "labels = data[\"Fertilizer Name\"].unique()\n",
    "counts = list(data[\"Fertilizer Name\"].value_counts())\n",
    "\n",
    "plt.figure(figsize = (9,5))\n",
    "plt.barh(labels, counts)\n",
    "  \n",
    "for index, value in enumerate(counts):\n",
    "    plt.text(value, index,\n",
    "             str(value))\n",
    "plt.show()"
   ]
  },
  {
   "cell_type": "code",
   "execution_count": 8,
   "metadata": {
    "colab": {
     "base_uri": "https://localhost:8080/",
     "height": 341
    },
    "id": "O_e45LZ14XbX",
    "outputId": "e1dbfed2-6195-497f-ce9b-a56a23eb3d7a"
   },
   "outputs": [
    {
     "data": {
      "text/plain": [
       "<Axes: >"
      ]
     },
     "execution_count": 8,
     "metadata": {},
     "output_type": "execute_result"
    },
    {
     "data": {
      "image/png": "[encoded data removed]",
      "text/plain": [
       "<Figure size 640x480 with 2 Axes>"
      ]
     },
     "metadata": {},
     "output_type": "display_data"
    }
   ],
   "source": [
    "continuous_data_cols = [\"Temparature\", \"Humidity \", \"Moisture\", \"Nitrogen\", \"Phosphorous\"]\n",
    "categorical_data_cols = [\"Soil Type\", \"Crop Type\"]\n",
    "sns.heatmap(data[continuous_data_cols].corr(), center = 0, annot = True)"
   ]
  },
  {
   "cell_type": "code",
   "execution_count": 9,
   "metadata": {
    "id": "YpjrQCPS4aq4"
   },
   "outputs": [],
   "source": [
    "soil_type_label_encoder = LabelEncoder()\n",
    "data[\"Soil Type\"] = soil_type_label_encoder.fit_transform(data[\"Soil Type\"])"
   ]
  },
  {
   "cell_type": "code",
   "execution_count": 10,
   "metadata": {
    "id": "O9Es1Lcm4cyq"
   },
   "outputs": [],
   "source": [
    "crop_type_label_encoder = LabelEncoder()\n",
    "data[\"Crop Type\"] = crop_type_label_encoder.fit_transform(data[\"Crop Type\"])"
   ]
  },
  {
   "cell_type": "code",
   "execution_count": 11,
   "metadata": {
    "colab": {
     "base_uri": "https://localhost:8080/"
    },
    "id": "2OMb_r2r4efn",
    "outputId": "8d83dcc2-06eb-47fb-a384-7a08022f944b"
   },
   "outputs": [
    {
     "name": "stdout",
     "output_type": "stream",
     "text": [
      "{0: 'Barley', 1: 'Cotton', 2: 'Ground Nuts', 3: 'Maize', 4: 'Millets', 5: 'Oil seeds', 6: 'Paddy', 7: 'Pulses', 8: 'Sugarcane', 9: 'Tobacco', 10: 'Wheat'}\n",
      "{0: 'Black', 1: 'Clayey', 2: 'Loamy', 3: 'Red', 4: 'Sandy'}\n"
     ]
    }
   ],
   "source": [
    "croptype_dict = {}\n",
    "for i in range(len(data[\"Crop Type\"].unique())):\n",
    "    croptype_dict[i] = crop_type_label_encoder.inverse_transform([i])[0]\n",
    "print(croptype_dict)\n",
    "\n",
    "soiltype_dict = {}\n",
    "for i in range(len(data[\"Soil Type\"].unique())):\n",
    "    soiltype_dict[i] = soil_type_label_encoder.inverse_transform([i])[0]\n",
    "print(soiltype_dict)"
   ]
  },
  {
   "cell_type": "code",
   "execution_count": 12,
   "metadata": {
    "id": "A4zyNle34gkO"
   },
   "outputs": [],
   "source": [
    "fertname_label_encoder = LabelEncoder()\n",
    "data[\"Fertilizer Name\"] = fertname_label_encoder.fit_transform(data[\"Fertilizer Name\"])"
   ]
  },
  {
   "cell_type": "code",
   "execution_count": 13,
   "metadata": {
    "colab": {
     "base_uri": "https://localhost:8080/"
    },
    "id": "UWA1_vXO4imq",
    "outputId": "b77d31fb-70d7-4fa2-ecff-df7f904a7a00"
   },
   "outputs": [
    {
     "name": "stdout",
     "output_type": "stream",
     "text": [
      "{0: '10-26-26', 1: '14-35-14', 2: '17-17-17', 3: '20-20', 4: '28-28', 5: 'DAP', 6: 'Urea'}\n"
     ]
    }
   ],
   "source": [
    "fertname_dict = {}\n",
    "for i in range(len(data[\"Fertilizer Name\"].unique())):\n",
    "    fertname_dict[i] = fertname_label_encoder.inverse_transform([i])[0]\n",
    "print(fertname_dict)"
   ]
  },
  {
   "cell_type": "code",
   "execution_count": 14,
   "metadata": {
    "colab": {
     "base_uri": "https://localhost:8080/",
     "height": 206
    },
    "id": "A2Z2KWlP4kXa",
    "outputId": "5f6eea23-d888-4728-c7f6-bed545205638"
   },
   "outputs": [
    {
     "data": {
      "text/html": [
       "<div>\n",
       "<style scoped>\n",
       "    .dataframe tbody tr th:only-of-type {\n",
       "        vertical-align: middle;\n",
       "    }\n",
       "\n",
       "    .dataframe tbody tr th {\n",
       "        vertical-align: top;\n",
       "    }\n",
       "\n",
       "    .dataframe thead th {\n",
       "        text-align: right;\n",
       "    }\n",
       "</style>\n",
       "<table border=\"1\" class=\"dataframe\">\n",
       "  <thead>\n",
       "    <tr style=\"text-align: right;\">\n",
       "      <th></th>\n",
       "      <th>Temparature</th>\n",
       "      <th>Humidity</th>\n",
       "      <th>Moisture</th>\n",
       "      <th>Soil Type</th>\n",
       "      <th>Crop Type</th>\n",
       "      <th>Nitrogen</th>\n",
       "      <th>Potassium</th>\n",
       "      <th>Phosphorous</th>\n",
       "      <th>Fertilizer Name</th>\n",
       "    </tr>\n",
       "  </thead>\n",
       "  <tbody>\n",
       "    <tr>\n",
       "      <th>0</th>\n",
       "      <td>26</td>\n",
       "      <td>52</td>\n",
       "      <td>38</td>\n",
       "      <td>4</td>\n",
       "      <td>3</td>\n",
       "      <td>37</td>\n",
       "      <td>0</td>\n",
       "      <td>0</td>\n",
       "      <td>6</td>\n",
       "    </tr>\n",
       "    <tr>\n",
       "      <th>1</th>\n",
       "      <td>29</td>\n",
       "      <td>52</td>\n",
       "      <td>45</td>\n",
       "      <td>2</td>\n",
       "      <td>8</td>\n",
       "      <td>12</td>\n",
       "      <td>0</td>\n",
       "      <td>36</td>\n",
       "      <td>5</td>\n",
       "    </tr>\n",
       "    <tr>\n",
       "      <th>2</th>\n",
       "      <td>34</td>\n",
       "      <td>65</td>\n",
       "      <td>62</td>\n",
       "      <td>0</td>\n",
       "      <td>1</td>\n",
       "      <td>7</td>\n",
       "      <td>9</td>\n",
       "      <td>30</td>\n",
       "      <td>1</td>\n",
       "    </tr>\n",
       "    <tr>\n",
       "      <th>3</th>\n",
       "      <td>32</td>\n",
       "      <td>62</td>\n",
       "      <td>34</td>\n",
       "      <td>3</td>\n",
       "      <td>9</td>\n",
       "      <td>22</td>\n",
       "      <td>0</td>\n",
       "      <td>20</td>\n",
       "      <td>4</td>\n",
       "    </tr>\n",
       "    <tr>\n",
       "      <th>4</th>\n",
       "      <td>28</td>\n",
       "      <td>54</td>\n",
       "      <td>46</td>\n",
       "      <td>1</td>\n",
       "      <td>6</td>\n",
       "      <td>35</td>\n",
       "      <td>0</td>\n",
       "      <td>0</td>\n",
       "      <td>6</td>\n",
       "    </tr>\n",
       "  </tbody>\n",
       "</table>\n",
       "</div>"
      ],
      "text/plain": [
       "   Temparature  Humidity   Moisture  Soil Type  Crop Type  Nitrogen  \\\n",
       "0           26         52        38          4          3        37   \n",
       "1           29         52        45          2          8        12   \n",
       "2           34         65        62          0          1         7   \n",
       "3           32         62        34          3          9        22   \n",
       "4           28         54        46          1          6        35   \n",
       "\n",
       "   Potassium  Phosphorous  Fertilizer Name  \n",
       "0          0            0                6  \n",
       "1          0           36                5  \n",
       "2          9           30                1  \n",
       "3          0           20                4  \n",
       "4          0            0                6  "
      ]
     },
     "execution_count": 14,
     "metadata": {},
     "output_type": "execute_result"
    }
   ],
   "source": [
    "data.head()"
   ]
  },
  {
   "cell_type": "code",
   "execution_count": 15,
   "metadata": {
    "id": "IpY54SMQ4mUF"
   },
   "outputs": [],
   "source": [
    "X = data[data.columns[:-1]]\n",
    "y = data[data.columns[-1]]"
   ]
  },
  {
   "cell_type": "code",
   "execution_count": 16,
   "metadata": {
    "colab": {
     "base_uri": "https://localhost:8080/"
    },
    "id": "IOClAIBH4obE",
    "outputId": "58ffa130-d6f1-4385-9f01-e70e2d689675"
   },
   "outputs": [
    {
     "data": {
      "text/plain": [
       "Counter({6: 22, 5: 18, 1: 14, 4: 17, 2: 7, 3: 14, 0: 7})"
      ]
     },
     "execution_count": 16,
     "metadata": {},
     "output_type": "execute_result"
    }
   ],
   "source": [
    "counter = Counter(y)\n",
    "counter"
   ]
  },
  {
   "cell_type": "code",
   "execution_count": 17,
   "metadata": {
    "colab": {
     "base_uri": "https://localhost:8080/"
    },
    "id": "_Noqyw7k4qg5",
    "outputId": "6518122b-9ef4-4786-ae56-be3fd662ce1e"
   },
   "outputs": [
    {
     "name": "stdout",
     "output_type": "stream",
     "text": [
      "Counter({6: 22, 5: 22, 1: 22, 4: 22, 2: 22, 3: 22, 0: 22})\n"
     ]
    }
   ],
   "source": [
    "from imblearn.over_sampling import SMOTE\n",
    "upsample = SMOTE()\n",
    "X, y = upsample.fit_resample(X, y)\n",
    "counter = Counter(y)\n",
    "print(counter)"
   ]
  },
  {
   "cell_type": "code",
   "execution_count": 18,
   "metadata": {
    "colab": {
     "base_uri": "https://localhost:8080/"
    },
    "id": "ActV6RMD4uE9",
    "outputId": "41a09a04-a73a-4841-8de4-de8423052e18"
   },
   "outputs": [
    {
     "name": "stdout",
     "output_type": "stream",
     "text": [
      "Total Data after Upsampling: 154\n"
     ]
    }
   ],
   "source": [
    "print(f\"Total Data after Upsampling: {len(X)}\")"
   ]
  },
  {
   "cell_type": "code",
   "execution_count": 19,
   "metadata": {
    "id": "w5RTQDCe4xLh"
   },
   "outputs": [],
   "source": [
    "# Initialzing empty lists to append all model's name and corresponding name\n",
    "acc = []\n",
    "model = []"
   ]
  },
  {
   "cell_type": "code",
   "execution_count": 20,
   "metadata": {
    "colab": {
     "base_uri": "https://localhost:8080/"
    },
    "id": "2tEbI_iS4zbT",
    "outputId": "00dfbdd1-bc4b-4bbc-8cad-e1b079d2029e"
   },
   "outputs": [
    {
     "name": "stdout",
     "output_type": "stream",
     "text": [
      "Train Data: (123, 8), (123,)\n",
      "Train Data: (31, 8), (31,)\n"
     ]
    }
   ],
   "source": [
    "X_train, X_test, y_train, y_test = train_test_split(X.values, y, test_size = 0.2, random_state = 3)\n",
    "print(f\"Train Data: {X_train.shape}, {y_train.shape}\")\n",
    "print(f\"Train Data: {X_test.shape}, {y_test.shape}\")"
   ]
  },
  {
   "cell_type": "markdown",
   "metadata": {},
   "source": [
    "**K-NEAREST NEIGHBORS (KNN)**"
   ]
  },
  {
   "cell_type": "code",
   "execution_count": 21,
   "metadata": {
    "id": "RDY1zFaf495T"
   },
   "outputs": [],
   "source": [
    "from sklearn.neighbors import KNeighborsClassifier"
   ]
  },
  {
   "cell_type": "code",
   "execution_count": 22,
   "metadata": {
    "colab": {
     "base_uri": "https://localhost:8080/"
    },
    "id": "xPDxkJ6O5CI-",
    "outputId": "9fd14b3e-540e-433d-d877-760e260dc4d0"
   },
   "outputs": [
    {
     "name": "stdout",
     "output_type": "stream",
     "text": [
      "KNN Accuracy is:  96.7741935483871\n",
      "              precision    recall  f1-score   support\n",
      "\n",
      "           0       0.80      1.00      0.89         4\n",
      "           1       1.00      1.00      1.00         4\n",
      "           2       1.00      0.80      0.89         5\n",
      "           3       1.00      1.00      1.00         5\n",
      "           4       1.00      1.00      1.00         6\n",
      "           5       1.00      1.00      1.00         5\n",
      "           6       1.00      1.00      1.00         2\n",
      "\n",
      "    accuracy                           0.97        31\n",
      "   macro avg       0.97      0.97      0.97        31\n",
      "weighted avg       0.97      0.97      0.97        31\n",
      "\n"
     ]
    }
   ],
   "source": [
    "KNN = KNeighborsClassifier()\n",
    "KNN.fit(X_train,y_train)\n",
    "predicted = KNN.predict(X_test)\n",
    "x = metrics.accuracy_score(y_test, predicted)\n",
    "acc.append(x)\n",
    "model.append('K Nearest Neighbours')\n",
    "print(\"KNN Accuracy is: \", x * 100)\n",
    "print(classification_report(y_test,predicted))"
   ]
  },
  {
   "cell_type": "markdown",
   "metadata": {},
   "source": [
    "**SUPPORT VECTOR MACHINE (SVM)**"
   ]
  },
  {
   "cell_type": "code",
   "execution_count": 23,
   "metadata": {
    "id": "bI82cW0W5E6E"
   },
   "outputs": [],
   "source": [
    "from sklearn.svm import SVC"
   ]
  },
  {
   "cell_type": "code",
   "execution_count": 24,
   "metadata": {
    "colab": {
     "base_uri": "https://localhost:8080/"
    },
    "id": "_6CaHgr35HVr",
    "outputId": "38b5caca-ed84-4749-f172-9c2bf9a93f9d"
   },
   "outputs": [
    {
     "name": "stdout",
     "output_type": "stream",
     "text": [
      "SVC Accuracy is:  90.32258064516128\n",
      "              precision    recall  f1-score   support\n",
      "\n",
      "           0       0.60      0.75      0.67         4\n",
      "           1       1.00      1.00      1.00         4\n",
      "           2       0.75      0.60      0.67         5\n",
      "           3       1.00      1.00      1.00         5\n",
      "           4       1.00      1.00      1.00         6\n",
      "           5       1.00      1.00      1.00         5\n",
      "           6       1.00      1.00      1.00         2\n",
      "\n",
      "    accuracy                           0.90        31\n",
      "   macro avg       0.91      0.91      0.90        31\n",
      "weighted avg       0.91      0.90      0.90        31\n",
      "\n"
     ]
    }
   ],
   "source": [
    "SVC = SVC(probability=True)\n",
    "SVC.fit(X_train,y_train)\n",
    "predicted = SVC.predict(X_test)\n",
    "x = metrics.accuracy_score(y_test, predicted)\n",
    "acc.append(x)\n",
    "model.append('SVC')\n",
    "print(\"SVC Accuracy is: \", x * 100)\n",
    "print(classification_report(y_test,predicted))"
   ]
  },
  {
   "cell_type": "markdown",
   "metadata": {},
   "source": [
    "**RANDOM  FOREST CLASSIFIER**"
   ]
  },
  {
   "cell_type": "code",
   "execution_count": 25,
   "metadata": {
    "id": "OdHuIH0z5MAW"
   },
   "outputs": [],
   "source": [
    "from sklearn.ensemble import RandomForestClassifier"
   ]
  },
  {
   "cell_type": "code",
   "execution_count": 26,
   "metadata": {
    "colab": {
     "base_uri": "https://localhost:8080/"
    },
    "id": "Muf11eLh5PAm",
    "outputId": "e6023773-bd18-46b6-d208-f34976f19f35"
   },
   "outputs": [
    {
     "name": "stdout",
     "output_type": "stream",
     "text": [
      "Random Forest Accuracy is  100.0\n",
      "              precision    recall  f1-score   support\n",
      "\n",
      "           0       1.00      1.00      1.00         4\n",
      "           1       1.00      1.00      1.00         4\n",
      "           2       1.00      1.00      1.00         5\n",
      "           3       1.00      1.00      1.00         5\n",
      "           4       1.00      1.00      1.00         6\n",
      "           5       1.00      1.00      1.00         5\n",
      "           6       1.00      1.00      1.00         2\n",
      "\n",
      "    accuracy                           1.00        31\n",
      "   macro avg       1.00      1.00      1.00        31\n",
      "weighted avg       1.00      1.00      1.00        31\n",
      "\n"
     ]
    }
   ],
   "source": [
    "RF = RandomForestClassifier()\n",
    "RF.fit(X_train,y_train)\n",
    "predicted = RF.predict(X_test)\n",
    "x = metrics.accuracy_score(y_test,predicted)\n",
    "acc.append(x)\n",
    "model.append('Random Forest')\n",
    "print(\"Random Forest Accuracy is \",x * 100)\n",
    "print(classification_report(y_test,predicted))"
   ]
  },
  {
   "cell_type": "markdown",
   "metadata": {},
   "source": [
    "**XG BOOST CLASSIFIER**"
   ]
  },
  {
   "cell_type": "code",
   "execution_count": 27,
   "metadata": {
    "id": "KKiQqa7S5QqU"
   },
   "outputs": [],
   "source": [
    "import xgboost as xgb"
   ]
  },
  {
   "cell_type": "code",
   "execution_count": 28,
   "metadata": {
    "colab": {
     "base_uri": "https://localhost:8080/"
    },
    "id": "iyBguTLL5S6n",
    "outputId": "97facaa8-10c4-47ad-82f9-696ffa449262"
   },
   "outputs": [
    {
     "name": "stdout",
     "output_type": "stream",
     "text": [
      "XG Boost Accuracy is  100.0\n",
      "              precision    recall  f1-score   support\n",
      "\n",
      "           0       1.00      1.00      1.00         4\n",
      "           1       1.00      1.00      1.00         4\n",
      "           2       1.00      1.00      1.00         5\n",
      "           3       1.00      1.00      1.00         5\n",
      "           4       1.00      1.00      1.00         6\n",
      "           5       1.00      1.00      1.00         5\n",
      "           6       1.00      1.00      1.00         2\n",
      "\n",
      "    accuracy                           1.00        31\n",
      "   macro avg       1.00      1.00      1.00        31\n",
      "weighted avg       1.00      1.00      1.00        31\n",
      "\n"
     ]
    }
   ],
   "source": [
    "XB = xgb.XGBClassifier(eval_metric='mlogloss')\n",
    "XB.fit(X_train,y_train)\n",
    "predicted = XB.predict(X_test)\n",
    "x = metrics.accuracy_score(y_test,predicted)\n",
    "acc.append(x)\n",
    "model.append('XG Boost')\n",
    "print('XG Boost Accuracy is ',x * 100)\n",
    "print(classification_report(y_test,predicted))"
   ]
  },
  {
   "cell_type": "markdown",
   "metadata": {},
   "source": [
    "**ACCURACY COMPARISION**"
   ]
  },
  {
   "cell_type": "code",
   "execution_count": 29,
   "metadata": {
    "colab": {
     "base_uri": "https://localhost:8080/",
     "height": 744
    },
    "id": "7yaPrwNl5Vd2",
    "outputId": "47b6cc13-8aea-41a0-f906-57d3ba0375fb"
   },
   "outputs": [
    {
     "data": {
      "text/plain": [
       "<Axes: title={'center': 'Accuracy Comparision'}, xlabel='Accuracy', ylabel='Algorithms'>"
      ]
     },
     "execution_count": 29,
     "metadata": {},
     "output_type": "execute_result"
    },
    {
     "data": {
      "image/png": "[encoded data removed]",
      "text/plain": [
       "<Figure size 1200x800 with 1 Axes>"
      ]
     },
     "metadata": {},
     "output_type": "display_data"
    }
   ],
   "source": [
    "plt.figure(figsize = [12,8],dpi = 100)\n",
    "plt.title('Accuracy Comparision')\n",
    "plt.xlabel('Accuracy')\n",
    "plt.ylabel('Algorithms')\n",
    "sns.barplot(x = acc,y = model,palette = 'dark')"
   ]
  },
  {
   "cell_type": "code",
   "execution_count": 30,
   "metadata": {
    "colab": {
     "base_uri": "https://localhost:8080/"
    },
    "id": "XXlZzPzg5X9S",
    "outputId": "ebcfe2c9-98a7-4491-d0f0-3dd62ce685f5"
   },
   "outputs": [
    {
     "name": "stdout",
     "output_type": "stream",
     "text": [
      "K Nearest Neighbours --> 96.7741935483871 %\n",
      "SVC --> 90.32258064516128 %\n",
      "Random Forest --> 100.0 %\n",
      "XG Boost --> 100.0 %\n"
     ]
    }
   ],
   "source": [
    "accuracy_models = dict(zip(model,acc))\n",
    "for k,v in accuracy_models.items():\n",
    "  print(k,'-->',v* 100,'%')"
   ]
  },
  {
   "cell_type": "markdown",
   "metadata": {
    "id": "tM8SeUh4cY2D"
   },
   "source": [
    "**CONCLUSION**"
   ]
  },
  {
   "cell_type": "markdown",
   "metadata": {},
   "source": [
    "We are using Random Forest Classifier because of its accuracy and precision"
   ]
  },
  {
   "cell_type": "code",
   "execution_count": null,
   "metadata": {},
   "outputs": [],
   "source": []
  },
  {
   "cell_type": "code",
   "execution_count": null,
   "metadata": {},
   "outputs": [],
   "source": []
  }
 ],
 "metadata": {
  "colab": {
   "provenance": []
  },
  "kernelspec": {
   "display_name": "Python 3 (ipykernel)",
   "language": "python",
   "name": "python3"
  },
  "language_info": {
   "codemirror_mode": {
    "name": "ipython",
    "version": 3
   },
   "file_extension": ".py",
   "mimetype": "text/x-python",
   "name": "python",
   "nbconvert_exporter": "python",
   "pygments_lexer": "ipython3",
   "version": "3.11.5"
  }
 },
 "nbformat": 4,
 "nbformat_minor": 4
}
